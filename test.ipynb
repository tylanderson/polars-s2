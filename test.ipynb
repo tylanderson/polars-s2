{
 "cells": [
  {
   "cell_type": "code",
   "execution_count": null,
   "metadata": {},
   "outputs": [],
   "source": [
    "%pip install polars numpy\n"
   ]
  },
  {
   "cell_type": "code",
   "execution_count": null,
   "metadata": {},
   "outputs": [],
   "source": [
    "import polars as pl\n",
    "from polars_s2 import S2Cell\n",
    "import numpy as np\n",
    "\n",
    "df = pl.DataFrame(\n",
    "    {\n",
    "        \"lat\": np.random.rand(10_000_000),\n",
    "        \"lon\": np.random.rand(10_000_000),\n",
    "    }\n",
    ")"
   ]
  },
  {
   "cell_type": "code",
   "execution_count": null,
   "metadata": {},
   "outputs": [],
   "source": [
    "out = df.with_columns(\n",
    "    cell=pl.col(\"lat\").s2.add_s2_cell(pl.col(\"lon\"),level=30)\n",
    ")\n",
    "out"
   ]
  },
  {
   "cell_type": "code",
   "execution_count": null,
   "metadata": {},
   "outputs": [],
   "source": [
    "out2 = out.select(\n",
    "    pl.col(\"cell\").cast(pl.Int64).alias(\"cell_signed\")\n",
    ")\n",
    "\n",
    "out2"
   ]
  }
 ],
 "metadata": {
  "kernelspec": {
   "display_name": "Python 3",
   "language": "python",
   "name": "python3"
  },
  "language_info": {
   "codemirror_mode": {
    "name": "ipython",
    "version": 3
   },
   "file_extension": ".py",
   "mimetype": "text/x-python",
   "name": "python",
   "nbconvert_exporter": "python",
   "pygments_lexer": "ipython3",
   "version": "3.12.0"
  }
 },
 "nbformat": 4,
 "nbformat_minor": 2
}
